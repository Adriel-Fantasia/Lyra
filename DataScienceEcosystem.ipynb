{
 "cells": [
  {
   "cell_type": "markdown",
   "id": "ee16640b-42b8-4b21-8e6c-f8fe2d285555",
   "metadata": {},
   "source": [
    "# Data Science Tools and Ecosystem"
   ]
  },
  {
   "cell_type": "markdown",
   "id": "b268d3af-1da2-4ed0-a7d0-92fa2b265d31",
   "metadata": {},
   "source": [
    "#### In this notebook, Data Science Tools and Ecosystem are summarized."
   ]
  },
  {
   "cell_type": "code",
   "execution_count": null,
   "id": "93b0be9a-5d73-4729-9f2d-0f7fbf28b320",
   "metadata": {},
   "outputs": [],
   "source": [
    "### **Objectives**\n",
    "\n",
    "-List popular languages for Data Science  \n",
    "--\n",
    "-List populat libraries used in Data Science\n",
    "--\n",
    "-List Data Science Tools\n",
    "--\n",
    "-Give examples of arithmetic expressions in Phyton\n",
    "--"
   ]
  },
  {
   "cell_type": "markdown",
   "id": "a85b0551-3983-4ede-bae4-0d0536c9c8bf",
   "metadata": {},
   "source": [
    "##### Some of the popular languages that Data Scientists use are:"
   ]
  },
  {
   "cell_type": "markdown",
   "id": "e1690883-c51f-4e93-ae60-0adb551c7592",
   "metadata": {},
   "source": [
    "1. Phyton \n",
    "2. R\n",
    "3. SQL\n",
    "4. Julia"
   ]
  },
  {
   "cell_type": "markdown",
   "id": "6270ea73-a2cd-4f4d-9746-176e497a3304",
   "metadata": {},
   "source": [
    "##### Some of the commonly used libraries used by Data Scientists include:"
   ]
  },
  {
   "cell_type": "markdown",
   "id": "322e9337-63fc-427c-84c0-eb1256b7234e",
   "metadata": {},
   "source": [
    "1. ggplot\n",
    "2. Phyton\n",
    "3. Pandas\n",
    "4. R Libraries"
   ]
  },
  {
   "cell_type": "markdown",
   "id": "801c4424-e215-4feb-819b-e5faf80bbc80",
   "metadata": {},
   "source": [
    "| Data Science Tools |\n",
    "|--------------------|\n",
    "| Jupyter Notebook   |\n",
    "| RStudio            |\n",
    "| Spyder             |"
   ]
  },
  {
   "cell_type": "markdown",
   "id": "333f2ffe-5d25-4bc0-952b-a0a30be059f0",
   "metadata": {},
   "source": [
    "### Below are a few examples of evaluating arithmetic expressions in Python"
   ]
  },
  {
   "cell_type": "code",
   "execution_count": 10,
   "id": "e8d98b50-5433-42c0-ae01-9482ffda5001",
   "metadata": {},
   "outputs": [
    {
     "data": {
      "text/plain": [
       "17"
      ]
     },
     "execution_count": 10,
     "metadata": {},
     "output_type": "execute_result"
    }
   ],
   "source": [
    "###### This is a simple arithmetic expression to multiply then add integers\n",
    "(3 * 4) + 5"
   ]
  },
  {
   "cell_type": "code",
   "execution_count": 11,
   "id": "6dcf0418-2b24-4850-9b27-20fde20acdd6",
   "metadata": {},
   "outputs": [
    {
     "data": {
      "text/plain": [
       "3.3333333333333335"
      ]
     },
     "execution_count": 11,
     "metadata": {},
     "output_type": "execute_result"
    }
   ],
   "source": [
    "###### This will convert 200 minutes to hours by diving by 60\n",
    "200 / 60 "
   ]
  },
  {
   "cell_type": "code",
   "execution_count": null,
   "id": "6308d836-ffe3-4cd4-a8ea-9a84b212a3cc",
   "metadata": {},
   "outputs": [],
   "source": [
    "## **Author**\n",
    "by Adriel Fantasia"
   ]
  },
  {
   "cell_type": "code",
   "execution_count": null,
   "id": "fa01404f-17a3-4e1b-87c4-e4a77e1b556a",
   "metadata": {},
   "outputs": [],
   "source": []
  }
 ],
 "metadata": {
  "kernelspec": {
   "display_name": "Python 3 (ipykernel)",
   "language": "python",
   "name": "python3"
  },
  "language_info": {
   "codemirror_mode": {
    "name": "ipython",
    "version": 3
   },
   "file_extension": ".py",
   "mimetype": "text/x-python",
   "name": "python",
   "nbconvert_exporter": "python",
   "pygments_lexer": "ipython3",
   "version": "3.11.9"
  }
 },
 "nbformat": 4,
 "nbformat_minor": 5
}
